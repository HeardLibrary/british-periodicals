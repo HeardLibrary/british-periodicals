{
  "nbformat": 4,
  "nbformat_minor": 0,
  "metadata": {
    "colab": {
      "provenance": []
    },
    "kernelspec": {
      "name": "python3",
      "display_name": "Python 3"
    },
    "language_info": {
      "name": "python"
    }
  },
  "cells": [
    {
      "cell_type": "code",
      "execution_count": null,
      "metadata": {
        "id": "nG8se3fJhhNc"
      },
      "outputs": [],
      "source": [
        "import requests\n",
        "# Fetch the Underwood list of transformation rules\n",
        "\n",
        "url = \"https://raw.githubusercontent.com/tedunderwood/DataMunging/master/rulesets/CorrectionRules.txt\"\n",
        "response = requests.get(url)\n",
        "lines = response.text.strip().split(\"\\n\")\n",
        "underwood_rules = {line.split(\"\\t\")[0]: line.split(\"\\t\")[1] for line in lines}\n"
      ]
    },
    {
      "cell_type": "code",
      "source": [
        "def error_in_underwood( aword ):\n",
        "  return aword in underwood_rules"
      ],
      "metadata": {
        "id": "ln_n9CWFh032"
      },
      "execution_count": null,
      "outputs": []
    },
    {
      "cell_type": "code",
      "source": [
        "error_in_underwood(\"fcholar\")"
      ],
      "metadata": {
        "colab": {
          "base_uri": "https://localhost:8080/"
        },
        "id": "dLgMiTKUiF2w",
        "outputId": "19226253-fcea-4e47-e117-8b9e09ae67cd"
      },
      "execution_count": null,
      "outputs": [
        {
          "output_type": "execute_result",
          "data": {
            "text/plain": [
              "True"
            ]
          },
          "metadata": {},
          "execution_count": 6
        }
      ]
    },
    {
      "cell_type": "code",
      "source": [],
      "metadata": {
        "id": "Z8oKmocPiJA-"
      },
      "execution_count": null,
      "outputs": []
    }
  ]
}